{
  "nbformat": 4,
  "nbformat_minor": 0,
  "metadata": {
    "colab": {
      "name": "age_detection.ipynb",
      "provenance": [],
      "collapsed_sections": [],
      "mount_file_id": "17yTBeqellAnZ1qbw6DijC7Hua1uARUvg",
      "authorship_tag": "ABX9TyOfLJyY2Oinq+i5EWQO5Z3c",
      "include_colab_link": true
    },
    "kernelspec": {
      "name": "python3",
      "display_name": "Python 3"
    },
    "accelerator": "GPU"
  },
  "cells": [
    {
      "cell_type": "markdown",
      "metadata": {
        "id": "view-in-github",
        "colab_type": "text"
      },
      "source": [
        "<a href=\"https://colab.research.google.com/github/Felipehonorato1/AgeDetection/blob/main/age_detection.ipynb\" target=\"_parent\"><img src=\"https://colab.research.google.com/assets/colab-badge.svg\" alt=\"Open In Colab\"/></a>"
      ]
    },
    {
      "cell_type": "code",
      "metadata": {
        "id": "5IkJRgjAHu03"
      },
      "source": [
        "# %%capture\n",
        "# !tar xvzf \"/content/drive/MyDrive/Cópia de UTKFace.tar.gz\"\n",
        "# !pip install imblearn"
      ],
      "execution_count": 1,
      "outputs": []
    },
    {
      "cell_type": "code",
      "metadata": {
        "id": "zhiZuGDFNRIG"
      },
      "source": [
        "import pandas as pd\n",
        "from dataset_loader import AgeDataset\n",
        "from keras.preprocessing.image import ImageDataGenerator\n",
        "from keras.applications import VGG16\n",
        "from keras.optimizers import Adam\n",
        "from keras.layers import Dense, Conv2D, MaxPool2D, Flatten, Input\n",
        "from keras import Model\n",
        "import tensorflow as tf\n",
        "dir = 'UTKFace'"
      ],
      "execution_count": 37,
      "outputs": []
    },
    {
      "cell_type": "code",
      "metadata": {
        "id": "Nao2kxRVaa_n"
      },
      "source": [
        "loader = AgeDataset(dir)\n",
        "image_df = loader.GenerateDFrame()"
      ],
      "execution_count": null,
      "outputs": []
    },
    {
      "cell_type": "code",
      "metadata": {
        "id": "4EBTHCT4jWrM",
        "colab": {
          "base_uri": "https://localhost:8080/"
        },
        "outputId": "372cbd00-fd93-48f8-b441-5b1a24ed6bfc"
      },
      "source": [
        "overfit_data = loader.dataSample(seed = 301,n = 30)"
      ],
      "execution_count": 5,
      "outputs": [
        {
          "output_type": "stream",
          "text": [
            "\n",
            "Class distribution:\n",
            "\n",
            "Bebês: 30\n",
            "Idosos: 30\n",
            "Crianças: 30\n",
            "Jovens: 30\n",
            "Adultos: 30\n",
            "\n"
          ],
          "name": "stdout"
        }
      ]
    },
    {
      "cell_type": "code",
      "metadata": {
        "colab": {
          "base_uri": "https://localhost:8080/"
        },
        "id": "oaktlusLgzQg",
        "outputId": "13f608c6-2fc1-460b-84af-a6c8e31cef9a"
      },
      "source": [
        "keras_gen = ImageDataGenerator()\n",
        "\n",
        "training_data = keras_gen.flow_from_dataframe(dataframe = overfit_data, \n",
        "                                              directory = dir, x_col = 'image_name', \n",
        "                                              y_col = 'age_div', seed = 301, \n",
        "                                              target_size = (200,200), batch_size = 10)"
      ],
      "execution_count": 48,
      "outputs": [
        {
          "output_type": "stream",
          "text": [
            "Found 150 validated image filenames belonging to 5 classes.\n"
          ],
          "name": "stdout"
        }
      ]
    },
    {
      "cell_type": "code",
      "metadata": {
        "id": "F797lJJBsmQb"
      },
      "source": [
        "opt = Adam(learning_rate= 1e-6)"
      ],
      "execution_count": 55,
      "outputs": []
    },
    {
      "cell_type": "code",
      "metadata": {
        "id": "AwaLDuzgvgi5"
      },
      "source": [
        "lr_schedule = tf.keras.callbacks.LearningRateScheduler(\n",
        "    lambda epoch: 1e-6 * 10**(epoch / 30))"
      ],
      "execution_count": 56,
      "outputs": []
    },
    {
      "cell_type": "code",
      "metadata": {
        "id": "0SLmwYf2vHGF"
      },
      "source": [
        "vggnet = VGG16(weights = None, input_shape = (200,200,3), classes = 5)\n",
        "vggnet.compile(optimizer = opt, loss = 'categorical_crossentropy', metrics = ['accuracy'])"
      ],
      "execution_count": 59,
      "outputs": []
    },
    {
      "cell_type": "code",
      "metadata": {
        "colab": {
          "base_uri": "https://localhost:8080/"
        },
        "id": "JivZMyWYw9Ss",
        "outputId": "5eee3591-5a4f-4e6d-b420-cacca3db8d76"
      },
      "source": [
        "vggnet.fit(training_data, epochs = 50, callbacks = [lr_schedule], validation_data = training_data)"
      ],
      "execution_count": 60,
      "outputs": [
        {
          "output_type": "stream",
          "text": [
            "Epoch 1/50\n",
            "15/15 [==============================] - 8s 476ms/step - loss: 1.6333 - accuracy: 0.2242 - val_loss: 1.5134 - val_accuracy: 0.2667\n",
            "Epoch 2/50\n",
            "15/15 [==============================] - 7s 454ms/step - loss: 1.5158 - accuracy: 0.2566 - val_loss: 1.4386 - val_accuracy: 0.4400\n",
            "Epoch 3/50\n",
            "15/15 [==============================] - 7s 454ms/step - loss: 1.4487 - accuracy: 0.4211 - val_loss: 1.3690 - val_accuracy: 0.4800\n",
            "Epoch 4/50\n",
            "15/15 [==============================] - 7s 455ms/step - loss: 1.4010 - accuracy: 0.4574 - val_loss: 1.2924 - val_accuracy: 0.6133\n",
            "Epoch 5/50\n",
            "15/15 [==============================] - 7s 455ms/step - loss: 1.3029 - accuracy: 0.5670 - val_loss: 1.2172 - val_accuracy: 0.6333\n",
            "Epoch 6/50\n",
            "15/15 [==============================] - 7s 459ms/step - loss: 1.2813 - accuracy: 0.5461 - val_loss: 1.1038 - val_accuracy: 0.7000\n",
            "Epoch 7/50\n",
            "15/15 [==============================] - 7s 457ms/step - loss: 1.0675 - accuracy: 0.6783 - val_loss: 1.0746 - val_accuracy: 0.6400\n",
            "Epoch 8/50\n",
            "15/15 [==============================] - 7s 457ms/step - loss: 1.0601 - accuracy: 0.6435 - val_loss: 1.0977 - val_accuracy: 0.5933\n",
            "Epoch 9/50\n",
            "15/15 [==============================] - 7s 459ms/step - loss: 1.0833 - accuracy: 0.5875 - val_loss: 1.0677 - val_accuracy: 0.6400\n",
            "Epoch 10/50\n",
            "15/15 [==============================] - 7s 459ms/step - loss: 1.0381 - accuracy: 0.6450 - val_loss: 0.8371 - val_accuracy: 0.7733\n",
            "Epoch 11/50\n",
            "15/15 [==============================] - 7s 461ms/step - loss: 0.9176 - accuracy: 0.7273 - val_loss: 0.8134 - val_accuracy: 0.7933\n",
            "Epoch 12/50\n",
            "15/15 [==============================] - 7s 460ms/step - loss: 0.8319 - accuracy: 0.7645 - val_loss: 0.7661 - val_accuracy: 0.7267\n",
            "Epoch 13/50\n",
            "15/15 [==============================] - 7s 459ms/step - loss: 0.6643 - accuracy: 0.8217 - val_loss: 0.5425 - val_accuracy: 0.8933\n",
            "Epoch 14/50\n",
            "15/15 [==============================] - 7s 460ms/step - loss: 0.5471 - accuracy: 0.8801 - val_loss: 0.5519 - val_accuracy: 0.8267\n",
            "Epoch 15/50\n",
            "15/15 [==============================] - 7s 459ms/step - loss: 0.4540 - accuracy: 0.9171 - val_loss: 0.4756 - val_accuracy: 0.8333\n",
            "Epoch 16/50\n",
            "15/15 [==============================] - 7s 461ms/step - loss: 0.4720 - accuracy: 0.8300 - val_loss: 0.3351 - val_accuracy: 0.9267\n",
            "Epoch 17/50\n",
            "15/15 [==============================] - 7s 460ms/step - loss: 0.3238 - accuracy: 0.9332 - val_loss: 0.3436 - val_accuracy: 0.8933\n",
            "Epoch 18/50\n",
            "15/15 [==============================] - 7s 459ms/step - loss: 0.3011 - accuracy: 0.9379 - val_loss: 0.3431 - val_accuracy: 0.8867\n",
            "Epoch 19/50\n",
            "15/15 [==============================] - 7s 459ms/step - loss: 0.3844 - accuracy: 0.8552 - val_loss: 0.3855 - val_accuracy: 0.8600\n",
            "Epoch 20/50\n",
            "15/15 [==============================] - 7s 460ms/step - loss: 0.2642 - accuracy: 0.9349 - val_loss: 0.1249 - val_accuracy: 0.9933\n",
            "Epoch 21/50\n",
            "15/15 [==============================] - 7s 459ms/step - loss: 0.1574 - accuracy: 0.9512 - val_loss: 0.0796 - val_accuracy: 1.0000\n",
            "Epoch 22/50\n",
            "15/15 [==============================] - 7s 458ms/step - loss: 0.1132 - accuracy: 0.9947 - val_loss: 0.2424 - val_accuracy: 0.9200\n",
            "Epoch 23/50\n",
            "15/15 [==============================] - 7s 457ms/step - loss: 0.2140 - accuracy: 0.9247 - val_loss: 0.6664 - val_accuracy: 0.7733\n",
            "Epoch 24/50\n",
            "15/15 [==============================] - 7s 460ms/step - loss: 0.3330 - accuracy: 0.9460 - val_loss: 0.1096 - val_accuracy: 1.0000\n",
            "Epoch 25/50\n",
            "15/15 [==============================] - 7s 459ms/step - loss: 0.1621 - accuracy: 0.9662 - val_loss: 0.2516 - val_accuracy: 0.8867\n",
            "Epoch 26/50\n",
            "15/15 [==============================] - 7s 459ms/step - loss: 0.2149 - accuracy: 0.9201 - val_loss: 0.1634 - val_accuracy: 0.9533\n",
            "Epoch 27/50\n",
            "15/15 [==============================] - 7s 459ms/step - loss: 0.2617 - accuracy: 0.9346 - val_loss: 0.0894 - val_accuracy: 0.9933\n",
            "Epoch 28/50\n",
            "15/15 [==============================] - 7s 459ms/step - loss: 0.2097 - accuracy: 0.9223 - val_loss: 0.4205 - val_accuracy: 0.8600\n",
            "Epoch 29/50\n",
            "15/15 [==============================] - 7s 458ms/step - loss: 0.3213 - accuracy: 0.9025 - val_loss: 0.1382 - val_accuracy: 0.9733\n",
            "Epoch 30/50\n",
            "15/15 [==============================] - 7s 459ms/step - loss: 0.1740 - accuracy: 0.9563 - val_loss: 0.0959 - val_accuracy: 0.9800\n",
            "Epoch 31/50\n",
            "15/15 [==============================] - 7s 460ms/step - loss: 0.0684 - accuracy: 1.0000 - val_loss: 0.0757 - val_accuracy: 0.9867\n",
            "Epoch 32/50\n",
            "15/15 [==============================] - 7s 461ms/step - loss: 0.0838 - accuracy: 0.9671 - val_loss: 0.0320 - val_accuracy: 1.0000\n",
            "Epoch 33/50\n",
            "15/15 [==============================] - 7s 461ms/step - loss: 0.0977 - accuracy: 0.9562 - val_loss: 0.1922 - val_accuracy: 0.9200\n",
            "Epoch 34/50\n",
            "15/15 [==============================] - 7s 462ms/step - loss: 0.1820 - accuracy: 0.9151 - val_loss: 0.2588 - val_accuracy: 0.8733\n",
            "Epoch 35/50\n",
            "15/15 [==============================] - 7s 460ms/step - loss: 0.5370 - accuracy: 0.8051 - val_loss: 0.4006 - val_accuracy: 0.8733\n",
            "Epoch 36/50\n",
            "15/15 [==============================] - 7s 460ms/step - loss: 0.5021 - accuracy: 0.8182 - val_loss: 0.5774 - val_accuracy: 0.8133\n",
            "Epoch 37/50\n",
            "15/15 [==============================] - 7s 460ms/step - loss: 0.5838 - accuracy: 0.8500 - val_loss: 0.2084 - val_accuracy: 0.9667\n",
            "Epoch 38/50\n",
            "15/15 [==============================] - 7s 460ms/step - loss: 0.2771 - accuracy: 0.9041 - val_loss: 0.0500 - val_accuracy: 0.9933\n",
            "Epoch 39/50\n",
            "15/15 [==============================] - 7s 461ms/step - loss: 0.0429 - accuracy: 0.9919 - val_loss: 0.0245 - val_accuracy: 0.9867\n",
            "Epoch 40/50\n",
            "15/15 [==============================] - 7s 461ms/step - loss: 0.1065 - accuracy: 0.9540 - val_loss: 0.0125 - val_accuracy: 1.0000\n",
            "Epoch 41/50\n",
            "15/15 [==============================] - 7s 461ms/step - loss: 0.1237 - accuracy: 0.9562 - val_loss: 0.1483 - val_accuracy: 0.9467\n",
            "Epoch 42/50\n",
            "15/15 [==============================] - 7s 460ms/step - loss: 0.1386 - accuracy: 0.9536 - val_loss: 0.2409 - val_accuracy: 0.9067\n",
            "Epoch 43/50\n",
            "15/15 [==============================] - 7s 459ms/step - loss: 0.5546 - accuracy: 0.8419 - val_loss: 0.8652 - val_accuracy: 0.6467\n",
            "Epoch 44/50\n",
            "15/15 [==============================] - 7s 461ms/step - loss: 0.5563 - accuracy: 0.8132 - val_loss: 0.2907 - val_accuracy: 0.9000\n",
            "Epoch 45/50\n",
            "15/15 [==============================] - 7s 459ms/step - loss: 0.2026 - accuracy: 0.9212 - val_loss: 0.1240 - val_accuracy: 0.9333\n",
            "Epoch 46/50\n",
            "15/15 [==============================] - 7s 461ms/step - loss: 0.1202 - accuracy: 0.9503 - val_loss: 0.0283 - val_accuracy: 1.0000\n",
            "Epoch 47/50\n",
            "15/15 [==============================] - 7s 459ms/step - loss: 0.0184 - accuracy: 1.0000 - val_loss: 0.0067 - val_accuracy: 1.0000\n",
            "Epoch 48/50\n",
            "15/15 [==============================] - 7s 460ms/step - loss: 0.0129 - accuracy: 0.9972 - val_loss: 0.1020 - val_accuracy: 0.9667\n",
            "Epoch 49/50\n",
            "15/15 [==============================] - 7s 462ms/step - loss: 0.1208 - accuracy: 0.9476 - val_loss: 0.0978 - val_accuracy: 0.9867\n",
            "Epoch 50/50\n",
            "15/15 [==============================] - 7s 460ms/step - loss: 0.1550 - accuracy: 0.9669 - val_loss: 0.2523 - val_accuracy: 0.9133\n"
          ],
          "name": "stdout"
        },
        {
          "output_type": "execute_result",
          "data": {
            "text/plain": [
              "<tensorflow.python.keras.callbacks.History at 0x7f8b4e4a6150>"
            ]
          },
          "metadata": {
            "tags": []
          },
          "execution_count": 60
        }
      ]
    },
    {
      "cell_type": "code",
      "metadata": {
        "id": "_5w0LiuTxAcb"
      },
      "source": [
        ""
      ],
      "execution_count": null,
      "outputs": []
    }
  ]
}