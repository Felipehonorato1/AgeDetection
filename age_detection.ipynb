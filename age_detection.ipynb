{
  "nbformat": 4,
  "nbformat_minor": 0,
  "metadata": {
    "colab": {
      "name": "age_detection.ipynb",
      "provenance": [],
      "mount_file_id": "17yTBeqellAnZ1qbw6DijC7Hua1uARUvg",
      "authorship_tag": "ABX9TyMyQiRLJW5nX64rnIxt5RQx",
      "include_colab_link": true
    },
    "kernelspec": {
      "name": "python3",
      "display_name": "Python 3"
    },
    "accelerator": "GPU"
  },
  "cells": [
    {
      "cell_type": "markdown",
      "metadata": {
        "id": "view-in-github",
        "colab_type": "text"
      },
      "source": [
        "<a href=\"https://colab.research.google.com/github/Felipehonorato1/AgeDetection/blob/main/age_detection.ipynb\" target=\"_parent\"><img src=\"https://colab.research.google.com/assets/colab-badge.svg\" alt=\"Open In Colab\"/></a>"
      ]
    },
    {
      "cell_type": "code",
      "metadata": {
        "id": "5IkJRgjAHu03"
      },
      "source": [
        "# !tar xvzf \"/content/drive/MyDrive/Cópia de UTKFace.tar.gz\""
      ],
      "execution_count": null,
      "outputs": []
    },
    {
      "cell_type": "code",
      "metadata": {
        "id": "zhiZuGDFNRIG"
      },
      "source": [
        "import pandas as pd\n",
        "import seaborn as sns\n",
        "import re\n",
        "from dataset_loader import AgeDataset"
      ],
      "execution_count": 1,
      "outputs": []
    },
    {
      "cell_type": "code",
      "metadata": {
        "id": "Nao2kxRVaa_n"
      },
      "source": [
        "loader = AgeDataset('UTKFace')"
      ],
      "execution_count": 2,
      "outputs": []
    },
    {
      "cell_type": "code",
      "metadata": {
        "colab": {
          "base_uri": "https://localhost:8080/"
        },
        "id": "ERrZ08N7ae08",
        "outputId": "f3c217dd-a6ba-433e-eab4-66b9a74cb081"
      },
      "source": [
        "image_df = loader.GenerateDFrame()"
      ],
      "execution_count": 3,
      "outputs": [
        {
          "output_type": "stream",
          "text": [
            "Loading and treating data...\n",
            "\n",
            "Class distribution:\n",
            "\n",
            "Idosos: 2397\n",
            "Crianças: 3218\n",
            "Jovens: 3685\n",
            "Adultos: 14408\n",
            "\n",
            "Done!\n"
          ],
          "name": "stdout"
        }
      ]
    },
    {
      "cell_type": "code",
      "metadata": {
        "id": "4EBTHCT4jWrM"
      },
      "source": [
        ""
      ],
      "execution_count": null,
      "outputs": []
    }
  ]
}