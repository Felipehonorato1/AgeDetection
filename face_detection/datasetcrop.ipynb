{
  "nbformat": 4,
  "nbformat_minor": 0,
  "metadata": {
    "colab": {
      "name": "datasetcrop.ipynb",
      "provenance": []
    },
    "kernelspec": {
      "name": "python3",
      "display_name": "Python 3"
    }
  },
  "cells": [
    {
      "cell_type": "code",
      "metadata": {
        "id": "H145KY0lrpPC"
      },
      "source": [
        "%%capture\n",
        "#!tar -xf part1.tar.gz\n",
        "#!tar -xf \"crop.tar.xz\""
      ],
      "execution_count": 1,
      "outputs": []
    },
    {
      "cell_type": "code",
      "metadata": {
        "id": "dOe9kwKfsH_-"
      },
      "source": [
        "from detector import img_processing"
      ],
      "execution_count": 2,
      "outputs": []
    },
    {
      "cell_type": "code",
      "metadata": {
        "id": "EMnaR1Vtvi9k"
      },
      "source": [
        "process = img_processing(img_path = '/content/part1', output_path='/content/drive/MyDrive/img_outputs')"
      ],
      "execution_count": 3,
      "outputs": []
    },
    {
      "cell_type": "code",
      "metadata": {
        "colab": {
          "base_uri": "https://localhost:8080/"
        },
        "id": "we__27qJwtyZ",
        "outputId": "9c4e97ae-5695-4a28-c97c-874458e22e6d"
      },
      "source": [
        "process.crop_images()"
      ],
      "execution_count": 4,
      "outputs": [
        {
          "output_type": "stream",
          "text": [
            "DONE; 629 images cropped out of 1734\n"
          ],
          "name": "stdout"
        }
      ]
    },
    {
      "cell_type": "code",
      "metadata": {
        "id": "CAFb6dI90fwV"
      },
      "source": [
        ""
      ],
      "execution_count": 4,
      "outputs": []
    }
  ]
}